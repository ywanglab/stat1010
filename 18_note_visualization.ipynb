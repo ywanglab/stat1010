{
 "cells": [
  {
   "cell_type": "markdown",
   "metadata": {},
   "source": [
    "## 9.1 A Brief matplotlib API Primer\n",
    "\n",
    "matplotlib can be a fairly low-level tool. You assemble a plot from its base components: the data display (i.e., the type of plot: line, bar, box, scatter, contour, etc.), legend, title, tick labels, and other annotations.\n"
   ]
  },
  {
   "cell_type": "markdown",
   "metadata": {},
   "source": [
    "### Top level methods using `import matplotlib.pyplot as plt`\n",
    "`plt.plot(data)`  to plot a line"
   ]
  },
  {
   "cell_type": "markdown",
   "metadata": {},
   "source": [
    "### Axis method: Figures and Subplots (preferred)"
   ]
  },
  {
   "cell_type": "markdown",
   "metadata": {},
   "source": [
    "1. Create a `Figure` object with `plt.figure(figsize=(10,6))`. `figsize` can be omitted. \n",
    "2. add plot axes using `add_subplot`\n",
    "3. add a plot using the axis method: `ax.plot()`, etc. Possible plot types are: `.plot`, `.hist`, `.scatter`, etc"
   ]
  },
  {
   "cell_type": "markdown",
   "metadata": {},
   "source": [
    "```\n",
    "fig = plt.figure()\n",
    "ax1 = fig.add_subplot(2, 2, 1)\n",
    "ax2 = fig.add_subplot(2, 2, 2)\n",
    "ax3 = fig.add_subplot(2, 2, 3)\n",
    "ax3.plot(np.random.standard_normal(50).cumsum(), color=\"black\",\n",
    "         linestyle=\"dashed\")\n",
    "ax1.hist(np.random.standard_normal(100), bins=20, color=\"black\", alpha=0.3);\n",
    "ax2.scatter(np.arange(30), np.arange(30) + 3 * np.random.standard_normal(30));\n",
    "```"
   ]
  },
  {
   "cell_type": "markdown",
   "metadata": {},
   "source": [
    "`plt.close(\"all\")`# close all open figures. "
   ]
  },
  {
   "cell_type": "markdown",
   "metadata": {},
   "source": [
    " `plt.subplots` = `plt.figure()` + `plt.add_subplot()`. \n",
    "\n",
    "The axes array can then be indexed like a two-dimensional array; for example, `axes[0, 1]` refers to the subplot in the top row at the center. You can also indicate that subplots should have the same `x`- or `y`-axis using `sharex` and `sharey`, respectively. "
   ]
  },
  {
   "cell_type": "markdown",
   "metadata": {},
   "source": [
    "`fig, axes = plt.subplots(2, 3)`"
   ]
  },
  {
   "cell_type": "markdown",
   "metadata": {},
   "source": [
    "Table 9.1: matplotlib.pyplot.subplots options\n",
    "Argument\t|Description\n",
    "|:----------|:------------------------------------------------------|\n",
    "nrows|\tNumber of rows of subplots\n",
    "ncols|\tNumber of columns of subplots\n",
    "sharex\t|All subplots should use the same x-axis ticks (adjusting the xlim will affect all subplots)\n",
    "sharey\t|All subplots should use the same y-axis ticks (adjusting the ylim will affect all subplots)\n",
    "subplot_kw|\tDictionary of keywords passed to add_subplot call used to create each subplot\n",
    "**fig_kw|\tAdditional keywords to subplots are used when creating the figure, such as plt.subplots(2, 2, figsize=(8, 6))"
   ]
  },
  {
   "cell_type": "markdown",
   "metadata": {},
   "source": [
    "### Adjusting the spacing around subplots"
   ]
  },
  {
   "cell_type": "markdown",
   "metadata": {},
   "source": [
    "You can change the spacing using the subplots_adjust method on Figure objects:\n",
    "```\n",
    "subplots_adjust(left=None, bottom=None, right=None, top=None,\n",
    "                wspace=None, hspace=None)\n",
    "```\n",
    "`left, right, bottom, top`: These parameters control the spacing of the subplots from the left, right, bottom, and top edges of the figure, respectively. They can be specified as a fraction of the figure width or height.\n",
    "\n",
    "`wspace` and `hspace` control the percent of the figure width and figure height, respectively, to use as spacing between subplots."
   ]
  },
  {
   "cell_type": "markdown",
   "metadata": {},
   "source": [
    "### Colors, Markers, and Line Styles"
   ]
  },
  {
   "cell_type": "markdown",
   "metadata": {},
   "source": [
    "```\n",
    "ax.plot(x, y, linestyle=\"--\", color=\"green\")\n",
    "ax.plot(np.random.standard_normal(30).cumsum(), color=\"black\",\n",
    "        linestyle=\"dashed\", marker=\"o\");\n",
    "```\n",
    "\n",
    "A number of color names are provided for commonly used colors, but you can use any color on the spectrum by specifying its hex code (e.g., `\"#CECECE\"`). "
   ]
  },
  {
   "cell_type": "markdown",
   "metadata": {},
   "source": [
    "For line plots, you will notice that subsequent points are linearly interpolated by default. This can be altered with the `drawstyle` option."
   ]
  },
  {
   "cell_type": "markdown",
   "metadata": {},
   "source": [
    "```\n",
    "ax.plot(data, color=\"black\", linestyle=\"dashed\",\n",
    "        drawstyle=\"steps-post\", label=\"steps-post\");\n",
    "        # steps-post: jumps after the point\n",
    "        # steps: (steps-pre); steps-mid;\n",
    "ax.legend() # to create \n",
    "```\n",
    "\n",
    "The `loc` legend option tells matplotlib where to place the plot. The default is `\"best\"`, which tries to choose a location that is most out of the way. To exclude one or more elements from the legend, pass no label or `label=\"_nolegend_\"`."
   ]
  },
  {
   "cell_type": "markdown",
   "metadata": {},
   "source": [
    "### Ticks, Labels, and Legends\n",
    "Most kinds of plot decorations can be accessed through methods on matplotlib axes objects. This includes methods like `xlim`, `xticks`, and `xticklabels`. These control the plot range, tick locations, and tick labels, respectively. They can be used in two ways:\n",
    "\n",
    "Called with no arguments returns the current parameter value (e.g., `ax.xlim()` returns the current x-axis plotting range)\n",
    "\n",
    "Called with parameters sets the parameter value (e.g., `ax.xlim([0, 10])` sets the x-axis range to 0 to 10)\n",
    "\n",
    "All such methods act on the active or most recently created AxesSubplot. Each corresponds to two methods on the subplot object itself; in the case of `xlim`, these are `ax.get_xlim` and `ax.set_xlim`."
   ]
  },
  {
   "cell_type": "markdown",
   "metadata": {},
   "source": [
    "```\n",
    "ticks = ax.set_xticks([0, 250, 500, 750, 1000])\n",
    "labels = ax.set_xticklabels([\"one\", \"two\", \"three\", \"four\", \"five\"],\n",
    "                            rotation=30, fontsize=8)\n",
    "ax.set_xlabel(\"Stages\")\n",
    "ax.set_title(\"My first matplotlib plot\")\n",
    "```"
   ]
  },
  {
   "cell_type": "markdown",
   "metadata": {},
   "source": [
    "Modifying the y-axis consists of the same process, substituting y for x in this example. The axes class has a `set` method that allows batch setting of plot properties. From the prior example, we could also have written:\n",
    "```\n",
    "ax.set(title=\"My first matplotlib plot\", xlabel=\"Stages\")\n",
    "```"
   ]
  },
  {
   "cell_type": "markdown",
   "metadata": {},
   "source": [
    "### Annotations and Drawing on a Subplot\n",
    "In addition to the standard plot types, you may wish to draw your own plot annotations, which could consist of text, arrows, or other shapes. You can add annotations and text using the `text`, `arrow`, and `annotate` functions. text draws text at given coordinates (x, y) on the plot with optional custom styling:\n",
    "```\n",
    "ax.text(x, y, \"Hello world!\",\n",
    "        family=\"monospace\", fontsize=10)\n",
    "`````\n"
   ]
  },
  {
   "cell_type": "markdown",
   "metadata": {},
   "source": [
    "`asof` is a method that allows you to retrieve the value of the spx data at the specified date or the most recent date before the given date if the exact date is not available."
   ]
  },
  {
   "cell_type": "markdown",
   "metadata": {},
   "source": [
    "```\n",
    "ax.annotate(label, xy=(date, spx.asof(date) + 75), #to coordinates\n",
    "                xytext=(date, spx.asof(date) + 225),#from coordinates\n",
    "                arrowprops=dict(facecolor=\"black\", headwidth=4, width=2,\n",
    "                                headlength=4),\n",
    "                horizontalalignment=\"left\", verticalalignment=\"top\")\n",
    "\n",
    "# Zoom in on 2007-2010\n",
    "ax.set_xlim([\"1/1/2007\", \"1/1/2011\"])\n",
    "ax.set_ylim([600, 1800])\n",
    "```"
   ]
  },
  {
   "cell_type": "markdown",
   "metadata": {},
   "source": [
    "Drawing shapes requires some more care. matplotlib has objects that represent many common shapes, referred to as `patches`. Some of these, like `Rectangle` and `Circle`, are found in `matplotlib.pyplot`, but the full set is located in `matplotlib.patches`.\n",
    "\n",
    "To add a shape to a plot, you create the patch object and add it to a subplot ax by passing the patch to `ax.add_patch` (see Data visualization composed from three different patches):"
   ]
  },
  {
   "cell_type": "markdown",
   "metadata": {},
   "source": [
    "```\n",
    "fig, ax = plt.subplots(figsize=(6, 6))\n",
    "rect = plt.Rectangle((0.2, 0.75), 0.4, 0.15, color=\"black\", alpha=0.3)\n",
    "circ = plt.Circle((0.7, 0.3), 0.15, color=\"blue\", alpha=0.3)\n",
    "pgon = plt.Polygon([[0.15, 0.15], [0.35, 0.4], [0.2, 0.6]],\n",
    "                   color=\"green\", alpha=0.5)\n",
    "ax.add_patch(rect)\n",
    "ax.add_patch(circ)\n",
    "ax.add_patch(pgon)\n",
    "```"
   ]
  },
  {
   "cell_type": "markdown",
   "metadata": {},
   "source": [
    "### Saving Plots to File\n",
    "You can save the active figure to file using the figure object’s `savefig` instance method. For example, to save an SVG version of a figure, you need only type:\n",
    "```\n",
    "fig.savefig(\"figpath.svg\") #SVG: scalable vector Graphics, a XML-based format used on a webpage. \n",
    "```\n",
    "The file type is inferred from the file extension. So if you used `.pdf` instead, you would get a PDF. One important option that I use frequently for publishing graphics is `dpi`, which controls the dots-per-inch resolution. To get the same plot as a PNG at 400 DPI, you would do:\n",
    "```\n",
    "fig.savefig(\"figpath.png\", dpi=400)\n",
    "```\n",
    "\n",
    "\n",
    "Table 9.2: Some fig.savefig options\n",
    "Argument|\tDescription\n",
    "|:-----------|:-----------------------------------------------------|\n",
    "fname|\tString containing a filepath or a Python file-like object. The figure format is inferred from the file extension (e.g., .pdf for PDF or .png for PNG).\n",
    "dpi|\tThe figure resolution in dots per inch; defaults to 100 in IPython or 72 in Jupyter out of the box but can be configured.\n",
    "facecolor, edgecolor|\tThe color of the figure background outside of the subplots; \"w\" (white), by default.\n",
    "format\t|The explicit file format to use (\"png\", \"pdf\", \"svg\", \"ps\", \"eps\", ...).\n",
    "\n",
    "\n",
    "### matplotlib Configuration\n",
    "to set the global default figure size to be 10 × 10, you could enter:\n",
    "```\n",
    "plt.rc(\"figure\", figsize=(10, 10))\n",
    "```\n",
    "All of the current configuration settings are found in the `plt.rcParams` dictionary, and they can be restored to their default values by calling the `plt.rcdefaults()` function.\n",
    "\n",
    "The first argument to `rc` is the component you wish to customize, such as \"figure\", \"axes\", \"xtick\", \"ytick\", \"grid\", \"legend\", or many others. After that can follow a sequence of keyword arguments indicating the new parameters. A convenient way to write down the options in your program is as a dictionary:\n",
    "```\n",
    "plt.rc(\"font\", family=\"monospace\", weight=\"bold\", size=8)\n",
    "```\n",
    "For more extensive customization and to see a list of all the options, matplotlib comes with a configuration file `matplotlibrc` in the `matplotlib/mpl-data` directory. If you customize this file and place it in your home directory titled `.matplotlibrc`, it will be loaded each time you use matplotlib."
   ]
  },
  {
   "cell_type": "markdown",
   "metadata": {},
   "source": [
    "## 9.2 Plotting with pandas and seaborn\n",
    "\n",
    "### Line Plots\n",
    "Series and DataFrame have a plot attribute for making some basic plot types. By default, `plot()` makes line plot. The plot attribute contains a \"family\" of methods for different plot types. For example, `df.plot()` is equivalent to `df.plot.line()`. "
   ]
  },
  {
   "cell_type": "markdown",
   "metadata": {},
   "source": [
    "The Series object’s `index` is passed to matplotlib for plotting on the x-axis, though you can disable this by passing `use_index=False`. The x-axis ticks and limits can be adjusted with the `xticks` and `xlim` options, and the y-axis respectively with `yticks` and `ylim`. \n",
    "\n",
    "Table 9.3: Series.plot method arguments\n",
    "\n",
    "Argument|\tDescription\n",
    "|:----------|:---------------------------------------------------|\n",
    "label|\tLabel for plot legend\n",
    "ax|\tmatplotlib subplot object to plot on; if nothing passed, uses active matplotlib subplot\n",
    "style|\tStyle string, like \"ko--\", to be passed to matplotlib\n",
    "alpha|\tThe plot fill opacity (from 0 to 1)\n",
    "kind|\tCan be \"area\", \"bar\", \"barh\", \"density\", \"hist\", \"kde\", \"line\", or \"pie\"; defaults to \"line\"\n",
    "figsize|\tSize of the figure object to create\n",
    "logx|\tPass True for logarithmic scaling on the x axis; pass \"sym\" for symmetric logarithm that permits negative values\n",
    "logy|\tPass True for logarithmic scaling on the y axis; pass \"sym\" for symmetric logarithm that permits negative values\n",
    "title|\tTitle to use for the plot\n",
    "use_index|\tUse the object index for tick labels\n",
    "rot|\tRotation of tick labels (0 through 360)\n",
    "xticks|\tValues to use for x-axis ticks\n",
    "yticks|\tValues to use for y-axis ticks\n",
    "xlim|\tx-axis limits (e.g., [0, 10])\n",
    "ylim|\ty-axis limits\n",
    "grid|\tDisplay axis grid (off by default)\n",
    "\n",
    "Most of pandas’s plotting methods accept an optional `ax` parameter, which can be a matplotlib subplot object. This gives you more flexible placement of subplots in a grid layout.\n",
    "\n",
    "DataFrame’s plot method ***plots each of its columns*** as a different line on the same subplot, creating a legend automatically using the column names (see Simple DataFrame plot):"
   ]
  },
  {
   "cell_type": "markdown",
   "metadata": {},
   "source": [
    "```\n",
    "df = pd.DataFrame(np.random.standard_normal((10, 4)).cumsum(0),\n",
    "                  columns=[\"A\", \"B\", \"C\", \"D\"],\n",
    "                  index=np.arange(0, 100, 10))\n",
    "plt.style.use('grayscale') # use grayscale for all plot elements: line, marker, background\n",
    "df.plot()\n",
    "```"
   ]
  },
  {
   "cell_type": "markdown",
   "metadata": {},
   "source": [
    ":::{.callout-note}\n",
    "`plt.style.use('grayscale')` to switch to a color scheme more suitable for black and white publication, since some readers will not be able to see the full color plots."
   ]
  },
  {
   "cell_type": "markdown",
   "metadata": {},
   "source": [
    "Table 9.4: DataFrame-specific plot arguments\n",
    "Argument|\tDescription\n",
    "|:-------------|:---------------------------------------------|\n",
    "subplots|\tPlot each DataFrame column in a separate subplot\n",
    "layouts|\t2-tuple (rows, columns) providing layout of subplots\n",
    "sharex|\tIf subplots=True, share the same x-axis, linking ticks and limits\n",
    "sharey|\tIf subplots=True, share the same y-axis\n",
    "legend|\tAdd a subplot legend (True by default)\n",
    "sort_columns|\tPlot columns in alphabetical order; by default uses existing column order\n",
    "\n",
    "\n",
    "\n",
    "### Bar Plots\n",
    "The `plot.bar()` and `plot.barh()` make vertical and horizontal bar plots, respectively. In this case, the Series or DataFrame index will be used as the x (bar) or y (barh) ticks "
   ]
  },
  {
   "cell_type": "markdown",
   "metadata": {},
   "source": [
    "```\n",
    "fig, axes = plt.subplots(2, 1)\n",
    "data = pd.Series(np.random.uniform(size=16), index=list(\"abcdefghijklmnop\"))\n",
    "data.plot.bar(ax=axes[0], color=\"black\", alpha=0.7)\n",
    "data.plot.barh(ax=axes[1], color=\"black\", alpha=0.7)# note the index starting from bottom\n",
    "``````"
   ]
  },
  {
   "cell_type": "markdown",
   "metadata": {},
   "source": [
    "Note that the name “Genus” on the DataFrame’s columns is used to title the legend.\n",
    "\n",
    "We create stacked bar plots from a DataFrame by passing `stacked=True`, resulting in the value in each row being stacked together horizontally"
   ]
  },
  {
   "cell_type": "markdown",
   "metadata": {},
   "source": [
    "```\n",
    "df.plot.barh(stacked=True, alpha=0.5)\n",
    "```"
   ]
  },
  {
   "cell_type": "markdown",
   "metadata": {},
   "source": [
    ":::{.callout-note}\n",
    "A useful recipe for bar plots is to visualize a Series’s value frequency using `value_counts`: `s.value_counts().plot.bar()`.\n",
    "\n",
    "The `pandas.crosstab` function is a convenient way to compute a simple frequency table from two DataFrame columns:"
   ]
  },
  {
   "cell_type": "markdown",
   "metadata": {},
   "source": [
    "```\n",
    "party_counts = pd.crosstab(tips[\"day\"], tips[\"size\"]) # row: \"day\"; col: \"size\"\n",
    "```\n"
   ]
  },
  {
   "cell_type": "markdown",
   "metadata": {},
   "source": [
    "`party_pcts.plot.bar(stacked=True)`"
   ]
  },
  {
   "cell_type": "markdown",
   "metadata": {},
   "source": [
    "### barplot by Seaborn"
   ]
  },
  {
   "cell_type": "markdown",
   "metadata": {},
   "source": [
    "`sns.barplot(x=\"tip_pct\", y=\"day\", hue=\"time\", data=tips, orient=\"h\")`"
   ]
  },
  {
   "cell_type": "markdown",
   "metadata": {},
   "source": [
    "Notice that seaborn has automatically changed the aesthetics of plots: the default color palette, plot background, and grid line colors. You can switch between different plot appearances using `seaborn.set_style`. \n",
    "\n",
    "When producing plots for black-and-white print medium, you may find it useful to set a greyscale color palette, like so:\n",
    "```\n",
    "sns.set_palette(\"Greys_r\")\n",
    "```"
   ]
  },
  {
   "cell_type": "markdown",
   "metadata": {},
   "source": [
    "`sns.set_style(\"whitegrid\")`"
   ]
  },
  {
   "cell_type": "markdown",
   "metadata": {},
   "source": [
    "### Histograms and Density Plots\n",
    "using the `plot.hist` method on the Series :"
   ]
  },
  {
   "cell_type": "markdown",
   "metadata": {},
   "source": [
    "`tips[\"tip_pct\"].plot.hist(bins=50)`"
   ]
  },
  {
   "cell_type": "markdown",
   "metadata": {},
   "source": [
    "Thus, density plots are also known as kernel density estimate (KDE) plots. Using `plot.density` makes a density plot using the conventional mixture-of-normals estimate "
   ]
  },
  {
   "cell_type": "markdown",
   "metadata": {},
   "source": [
    "`tips[\"tip_pct\"].plot.density()` # need scipy package"
   ]
  },
  {
   "cell_type": "markdown",
   "metadata": {},
   "source": [
    "Seaborn makes histograms and density plots even easier through its histplot method, which can plot both a histogram and a continuous density estimate simultaneously. "
   ]
  },
  {
   "cell_type": "markdown",
   "metadata": {},
   "source": [
    "`sns.histplot(values, bins=100, kde=False, color=\"black\")`"
   ]
  },
  {
   "cell_type": "markdown",
   "metadata": {},
   "source": [
    "### Scatter or Point Plots\n"
   ]
  },
  {
   "cell_type": "markdown",
   "metadata": {},
   "source": [
    "```\n",
    "ax = sns.regplot(x=\"m1\", y=\"unemp\", data=trans_data)\n",
    "```"
   ]
  },
  {
   "cell_type": "markdown",
   "metadata": {},
   "source": [
    "In exploratory data analysis, it’s helpful to be able to look at all the scatter plots among a group of variables; this is known as a pairs plot or `scatter plot matrix`. Making such a plot from scratch is a bit of work, so seaborn has a convenient `pairplot` function that supports placing histograms or density estimates of each variable along the diagonal:"
   ]
  },
  {
   "cell_type": "markdown",
   "metadata": {},
   "source": [
    "```\n",
    "sns.pairplot(trans_data, diag_kind=\"kde\", plot_kws={\"alpha\": 0.2}) \n",
    "#data points transparency is 0.2. 0(transparent)<=alpha<=1(opaque)\n",
    "```"
   ]
  },
  {
   "cell_type": "markdown",
   "metadata": {},
   "source": [
    "### Facet Grids and Categorical Data\n",
    " seaborn has a useful built-in function `catplot` that simplifies making many kinds of faceted plots split by categorical variables "
   ]
  },
  {
   "cell_type": "markdown",
   "metadata": {},
   "source": [
    "```\n",
    "sns.catplot(x=\"day\", y=\"tip_pct\", hue=\"time\", col=\"smoker\",  # facet by \"smoker\"\n",
    "            kind=\"bar\", data=tips[tips.tip_pct < 1])\n",
    "```"
   ]
  },
  {
   "cell_type": "markdown",
   "metadata": {},
   "source": [
    "```\n",
    "sns.catplot(x=\"day\", y=\"tip_pct\", row=\"time\",\n",
    "            col=\"smoker\",\n",
    "            kind=\"bar\", data=tips[tips.tip_pct < 1])\n",
    "```"
   ]
  },
  {
   "cell_type": "markdown",
   "metadata": {},
   "source": [
    "`catplot` supports other plot types that may be useful depending on what you are trying to display. For example, box plots (which show the median, quartiles, and outliers) can be an effective visualization type"
   ]
  },
  {
   "cell_type": "markdown",
   "metadata": {},
   "source": [
    "```\n",
    "sns.catplot(x=\"tip_pct\", y=\"day\", kind=\"box\",\n",
    "            data=tips[tips.tip_pct < 0.5])\n",
    "```"
   ]
  },
  {
   "cell_type": "markdown",
   "metadata": {},
   "source": [
    "You can create your own facet grid plots using the more general `seaborn.FacetGrid` class."
   ]
  }
 ],
 "metadata": {
  "kernelspec": {
   "display_name": "Python 3",
   "language": "python",
   "name": "python3"
  },
  "language_info": {
   "codemirror_mode": {
    "name": "ipython",
    "version": 3
   },
   "file_extension": ".py",
   "mimetype": "text/x-python",
   "name": "python",
   "nbconvert_exporter": "python",
   "pygments_lexer": "ipython3",
   "version": "3.11.5"
  }
 },
 "nbformat": 4,
 "nbformat_minor": 4
}
