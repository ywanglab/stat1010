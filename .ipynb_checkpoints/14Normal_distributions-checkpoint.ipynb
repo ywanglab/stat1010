{
 "cells": [
  {
   "cell_type": "markdown",
   "metadata": {},
   "source": [
    "## Normal Distribution (skip)\n",
    "`np.random.standard_normal()`: same as np.random.randn()\n",
    "\n",
    "`numpy.random.randn(d0, d1, ..., dn)`: This function generates random numbers from a standard normal distribution (mean = 0, standard deviation = 1). You specify the dimensions directly as arguments to the function. \n",
    "\n",
    "`numpy.random.normal(mean, std_dev, size)`: This function allows you to specify both the mean (mean) and the standard deviation (std_dev) of the normal distribution. You can also specify the size parameter to determine the dimensions of the output array. "
   ]
  }
 ],
 "metadata": {
  "kernelspec": {
   "display_name": "stat1010",
   "language": "python",
   "name": "python3"
  },
  "language_info": {
   "name": "python",
   "version": "3.11.5"
  }
 },
 "nbformat": 4,
 "nbformat_minor": 2
}
