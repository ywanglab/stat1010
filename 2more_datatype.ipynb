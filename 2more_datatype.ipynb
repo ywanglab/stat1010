{
 "cells": [
  {
   "cell_type": "code",
   "execution_count": 2,
   "metadata": {},
   "outputs": [],
   "source": [
    "import numpy as np\n",
    "np.random.seed(12345)\n",
    "np.set_printoptions(precision=4, suppress=True)"
   ]
  },
  {
   "cell_type": "markdown",
   "metadata": {},
   "source": [
    "## Dates and times (Lec)\n",
    "The built-in Python datetime module provides datetime, date, and time types. The datetime type combines the information stored in date and time and is the most commonly used:"
   ]
  },
  {
   "cell_type": "code",
   "execution_count": 4,
   "metadata": {},
   "outputs": [
    {
     "data": {
      "text/plain": [
       "datetime.datetime(2011, 10, 29, 20, 30, 21)"
      ]
     },
     "execution_count": 4,
     "metadata": {},
     "output_type": "execute_result"
    }
   ],
   "source": [
    "from datetime import datetime, date, time\n",
    "dt = datetime(2011, 10, 29, 20, 30, 21)\n",
    "dt"
   ]
  },
  {
   "cell_type": "code",
   "execution_count": null,
   "metadata": {},
   "outputs": [
    {
     "name": "stdout",
     "output_type": "stream",
     "text": [
      "2011-10-29 20:30:21\n"
     ]
    }
   ],
   "source": [
    "dt"
   ]
  },
  {
   "cell_type": "code",
   "execution_count": 5,
   "metadata": {},
   "outputs": [
    {
     "data": {
      "text/plain": [
       "29"
      ]
     },
     "execution_count": 5,
     "metadata": {},
     "output_type": "execute_result"
    }
   ],
   "source": [
    "\n",
    "dt.day"
   ]
  },
  {
   "cell_type": "code",
   "execution_count": 6,
   "metadata": {},
   "outputs": [
    {
     "data": {
      "text/plain": [
       "30"
      ]
     },
     "execution_count": 6,
     "metadata": {},
     "output_type": "execute_result"
    }
   ],
   "source": [
    "dt.minute"
   ]
  },
  {
   "cell_type": "code",
   "execution_count": 7,
   "metadata": {},
   "outputs": [
    {
     "data": {
      "text/plain": [
       "datetime.datetime(2011, 10, 29, 20, 30, 21)"
      ]
     },
     "execution_count": 7,
     "metadata": {},
     "output_type": "execute_result"
    }
   ],
   "source": [
    "dt"
   ]
  },
  {
   "cell_type": "code",
   "execution_count": 8,
   "metadata": {},
   "outputs": [
    {
     "data": {
      "text/plain": [
       "datetime.date(2011, 10, 29)"
      ]
     },
     "execution_count": 8,
     "metadata": {},
     "output_type": "execute_result"
    }
   ],
   "source": [
    "dt.date()"
   ]
  },
  {
   "cell_type": "code",
   "execution_count": 9,
   "metadata": {},
   "outputs": [
    {
     "data": {
      "text/plain": [
       "datetime.time(20, 30, 21)"
      ]
     },
     "execution_count": 9,
     "metadata": {},
     "output_type": "execute_result"
    }
   ],
   "source": [
    "dt.time()"
   ]
  },
  {
   "cell_type": "code",
   "execution_count": null,
   "metadata": {},
   "outputs": [
    {
     "name": "stdout",
     "output_type": "stream",
     "text": [
      "2011-10-29\n",
      "20:30:21\n"
     ]
    }
   ],
   "source": [
    "print(dt.date())\n",
    "print(dt.time())"
   ]
  },
  {
   "cell_type": "markdown",
   "metadata": {},
   "source": [
    "The `strftime` method formats a datetime as a string:"
   ]
  },
  {
   "cell_type": "markdown",
   "metadata": {},
   "source": [
    "|Type\t|Description |\n",
    "|:---- | :------------|\n",
    "|%Y|\tFour-digit year|\n",
    "|%y|\tTwo-digit year|\n",
    "|%m\t|Two-digit month [01, 12]|\n",
    "|%d|\tTwo-digit day [01, 31] |\n",
    "|%H|\tHour (24-hour clock) [00, 23] |\n",
    "|%I|\tHour (12-hour clock) [01, 12] |\n",
    "|%M|\tTwo-digit minute [00, 59] |\n",
    "|%S|\tSecond [00, 61] (seconds 60, 61 account for leap seconds) |"
   ]
  },
  {
   "cell_type": "code",
   "execution_count": 10,
   "metadata": {},
   "outputs": [
    {
     "data": {
      "text/plain": [
       "'2011-10-29 20:30'"
      ]
     },
     "execution_count": 10,
     "metadata": {},
     "output_type": "execute_result"
    }
   ],
   "source": [
    "strdt= dt.strftime(\"%Y-%m-%d %H:%M\")\n",
    "strdt"
   ]
  },
  {
   "cell_type": "code",
   "execution_count": 11,
   "metadata": {},
   "outputs": [
    {
     "data": {
      "text/plain": [
       "datetime.datetime(2011, 10, 29, 20, 30, 21)"
      ]
     },
     "execution_count": 11,
     "metadata": {},
     "output_type": "execute_result"
    }
   ],
   "source": [
    "dt"
   ]
  },
  {
   "cell_type": "markdown",
   "metadata": {},
   "source": [
    "Strings can be converted (parsed) into datetime objects with the strptime function:"
   ]
  },
  {
   "cell_type": "code",
   "execution_count": 12,
   "metadata": {},
   "outputs": [
    {
     "data": {
      "text/plain": [
       "datetime.datetime(2009, 10, 31, 0, 0)"
      ]
     },
     "execution_count": 12,
     "metadata": {},
     "output_type": "execute_result"
    }
   ],
   "source": [
    "datetime.strptime(\"20091031\", \"%Y%m%d\")"
   ]
  },
  {
   "cell_type": "markdown",
   "metadata": {},
   "source": [
    "When you are aggregating or otherwise grouping time series data, it will occasionally be useful to replace time fields of a series of datetimes—for example, replacing the minute and second fields with zero:"
   ]
  },
  {
   "cell_type": "code",
   "execution_count": 13,
   "metadata": {},
   "outputs": [
    {
     "data": {
      "text/plain": [
       "datetime.datetime(2011, 10, 29, 20, 0)"
      ]
     },
     "execution_count": 13,
     "metadata": {},
     "output_type": "execute_result"
    }
   ],
   "source": [
    "dt_hour = dt.replace(minute=0, second=0) # dt is immutable. dt is not modified. \n",
    "dt_hour"
   ]
  },
  {
   "cell_type": "markdown",
   "metadata": {},
   "source": [
    "Since datetime.datetime is an immutable type, methods like these always produce new objects. So in the previous example, dt is not modified by replace:"
   ]
  },
  {
   "cell_type": "code",
   "execution_count": 14,
   "metadata": {},
   "outputs": [
    {
     "data": {
      "text/plain": [
       "datetime.datetime(2011, 10, 29, 20, 30, 21)"
      ]
     },
     "execution_count": 14,
     "metadata": {},
     "output_type": "execute_result"
    }
   ],
   "source": [
    "dt"
   ]
  },
  {
   "cell_type": "markdown",
   "metadata": {},
   "source": [
    "The difference of two datetime objects produces a datetime.timedelta type:"
   ]
  },
  {
   "cell_type": "code",
   "execution_count": 15,
   "metadata": {},
   "outputs": [
    {
     "name": "stdout",
     "output_type": "stream",
     "text": [
      "17 days, 1:59:39\n"
     ]
    },
    {
     "data": {
      "text/plain": [
       "datetime.timedelta"
      ]
     },
     "execution_count": 15,
     "metadata": {},
     "output_type": "execute_result"
    }
   ],
   "source": [
    "dt2 = datetime(2011, 11, 15, 22, 30)\n",
    "delta = dt2 - dt\n",
    "print(delta)\n",
    "type(delta)"
   ]
  },
  {
   "cell_type": "code",
   "execution_count": 16,
   "metadata": {},
   "outputs": [
    {
     "data": {
      "text/plain": [
       "datetime.timedelta(days=17, seconds=7179)"
      ]
     },
     "execution_count": 16,
     "metadata": {},
     "output_type": "execute_result"
    }
   ],
   "source": [
    "delta"
   ]
  },
  {
   "cell_type": "code",
   "execution_count": 17,
   "metadata": {},
   "outputs": [
    {
     "name": "stdout",
     "output_type": "stream",
     "text": [
      "2011-10-29 20:30:21\n"
     ]
    },
    {
     "data": {
      "text/plain": [
       "datetime.datetime(2011, 11, 15, 22, 30)"
      ]
     },
     "execution_count": 17,
     "metadata": {},
     "output_type": "execute_result"
    }
   ],
   "source": [
    "print(dt)\n",
    "dt + delta"
   ]
  },
  {
   "cell_type": "markdown",
   "metadata": {},
   "source": [
    "### Bytes and Unicodes  (lightly lec)"
   ]
  },
  {
   "cell_type": "markdown",
   "metadata": {},
   "source": [
    "Unicode is a standardized character encoding system that assigns a unique numerical value (code point) to virtually every character from every writing system in the world, including letters, numbers, symbols, and even emojis. It aims to provide a consistent way to represent text regardless of the language or script being used. Unicode enables computers and software to display and manipulate text in various languages and scripts, making it a fundamental component for internationalization and multilingual support in software and on the internet.\n",
    "\n",
    "A code point is a unique numerical value or identifier that is assigned to each character, symbol, or element in a character encoding standard, such as Unicode. Code points are used to represent and differentiate individual characters from various writing systems, languages, and symbol sets in digital text.\n",
    "\n",
    "For example, in Unicode:\n",
    "\n",
    "The code point U+0041 represents the uppercase letter \"A.\"\n",
    "The code point U+03B1 represents the Greek letter alpha (α).\n",
    "The code point U+1F600 represents the emoji \"😀.\"\n",
    "\n",
    "Now, let's talk about UTF-8 (Unicode Transformation Format - 8-bit), which is one of the most commonly used encoding schemes for representing Unicode characters in binary form:\n",
    "\n",
    "Encoding: When text is stored or transmitted digitally, the characters are encoded into binary data using their respective code points. Different encoding schemes, such as UTF-8 or UTF-16 for Unicode, specify how code points are translated into binary data.\n",
    "\n",
    "UTF-8 is a variable-length encoding scheme, meaning it uses a variable number of bytes to represent different characters. Here's how it works:\n",
    "\n",
    "ASCII characters (U+0000 to U+007F): In UTF-8, these characters are represented using a single byte, which is the same as the ASCII encoding. This ensures backward compatibility with the original ASCII character set.\n",
    "\n",
    "Commonly used characters in other scripts: Characters in the range U+0080 to U+07FF are represented using two bytes in UTF-8. This includes characters from many European, Middle Eastern, and South Asian scripts.\n",
    "\n",
    "Characters from a wide range of scripts and emojis: Characters in the range U+0800 to U+FFFF are represented using three bytes in UTF-8. This covers a broad spectrum of scripts used around the world.\n",
    "\n",
    "Supplementary characters and less commonly used symbols: Characters in the range U+10000 to U+10FFFF are represented using four bytes in UTF-8. This allows UTF-8 to support less common or historic scripts and symbols.\n",
    "\n",
    "UTF-8's variable-length design is space-efficient because it uses fewer bytes for common characters while still accommodating a vast range of characters from various writing systems. It is widely used in programming languages, web pages, and many operating systems as a standard for encoding text in a way that is both human-readable and universally compatible.\n",
    "\n",
    "In summary, Unicode is a character encoding standard that provides a unique code point for each character in the world, and UTF-8 is one of the encoding schemes used to represent those code points in binary form, with variable-length encoding to efficiently cover a wide range of characters."
   ]
  },
  {
   "cell_type": "markdown",
   "metadata": {},
   "source": [
    "A \"Unicode string\" refers to a sequence of characters or text that is encoded using the Unicode character encoding standard. Unicode is a standardized system that assigns a unique numerical value (code point) to almost every character, symbol, and emoji from virtually every writing system and language in the world. A Unicode string, therefore, is a text string where each character is represented using Unicode code points, allowing it to accommodate a wide range of characters from different languages and scripts.\n",
    "\n",
    "Key characteristics of a Unicode string include:\n",
    "\n",
    "Universal Character Support: Unicode strings can represent characters from any writing system, including Latin, Greek, Cyrillic, Chinese, Japanese, Arabic, and many others. They also include symbols, punctuation, control characters, and emojis.\n",
    "\n",
    "Encoding Formats: Unicode strings can be encoded in various formats, with UTF-8 and UTF-16 being two of the most commonly used encodings. These formats determine how the Unicode code points are represented as binary data for storage or transmission.\n",
    "\n",
    "UTF-8: Uses a variable-length encoding, with characters represented using 1 to 4 bytes. It is space-efficient for characters from common scripts like Latin and can represent all Unicode characters.\n",
    "\n",
    "UTF-16: Uses a fixed-length encoding, with characters represented using 2 bytes (16 bits) or 4 bytes (32 bits). It is commonly used in systems that require fixed-width character representation.\n",
    "\n",
    "Multilingual Support: Unicode strings make it possible to work with text that includes characters from multiple languages and scripts within a single string. This is essential for internationalization and multilingual support in software applications.\n",
    "\n",
    "Compatibility: Unicode is designed to be backward compatible with earlier character encodings like ASCII. This means that ASCII characters are a subset of Unicode, and you can seamlessly work with both ASCII and non-ASCII characters in a Unicode string.\n",
    "\n",
    "Here's an example of a Unicode string:\n",
    "\n",
    "```\n",
    "unicode_str = \"Hello, 你好, こんにちは, مرحبًا, नमस्ते, 😊\"\n",
    "```\n",
    "In this example, the string contains greetings in English, Chinese, Japanese, Arabic, Hindi, and an emoji, all encoded using Unicode code points. Unicode strings are widely used in modern software development to ensure that text can be accurately represented and processed across different languages, scripts, and platforms, making them an essential part of internationalization and cross-cultural communication in computing.\n"
   ]
  },
  {
   "cell_type": "markdown",
   "metadata": {},
   "source": [
    "In modern Python (i.e., Python 3.0 and up), Unicode has become the first-class string type to enable more consistent handling of ASCII and non-ASCII text. In older versions of Python, strings were all bytes without any explicit Unicode encoding. You could convert to Unicode assuming you knew the character encoding. Here is an example Unicode string with non-ASCII characters:"
   ]
  },
  {
   "cell_type": "code",
   "execution_count": null,
   "metadata": {},
   "outputs": [
    {
     "data": {
      "text/plain": [
       "'español'"
      ]
     },
     "metadata": {},
     "output_type": "display_data"
    }
   ],
   "source": [
    "val = \"español\" #unicode string\n",
    "val"
   ]
  },
  {
   "cell_type": "markdown",
   "metadata": {},
   "source": [
    "We can convert this Unicode string to its `UTF-8 bytes representation` using the encode method:"
   ]
  },
  {
   "cell_type": "code",
   "execution_count": null,
   "metadata": {},
   "outputs": [
    {
     "name": "stdout",
     "output_type": "stream",
     "text": [
      "b'espa\\xc3\\xb1ol'\n"
     ]
    },
    {
     "data": {
      "text/plain": [
       "bytes"
      ]
     },
     "metadata": {},
     "output_type": "display_data"
    }
   ],
   "source": [
    "val_utf8 = val.encode(\"utf-8\")\n",
    "print(val_utf8)\n",
    "type(val_utf8)"
   ]
  },
  {
   "cell_type": "markdown",
   "metadata": {},
   "source": [
    "Assuming you know the Unicode encoding of a bytes object, you can go back using the decode method:"
   ]
  },
  {
   "cell_type": "code",
   "execution_count": null,
   "metadata": {},
   "outputs": [
    {
     "data": {
      "text/plain": [
       "'español'"
      ]
     },
     "metadata": {},
     "output_type": "display_data"
    }
   ],
   "source": [
    "val_utf8.decode(\"utf-8\")"
   ]
  },
  {
   "cell_type": "markdown",
   "metadata": {},
   "source": [
    "While it is now preferable to use UTF-8 for any encoding, for historical reasons you may encounter data in any number of different encodings:"
   ]
  },
  {
   "cell_type": "code",
   "execution_count": null,
   "metadata": {},
   "outputs": [
    {
     "name": "stdout",
     "output_type": "stream",
     "text": [
      "b'espa\\xf1ol'\n",
      "b'\\xff\\xfee\\x00s\\x00p\\x00a\\x00\\xf1\\x00o\\x00l\\x00'\n"
     ]
    },
    {
     "data": {
      "text/plain": [
       "b'e\\x00s\\x00p\\x00a\\x00\\xf1\\x00o\\x00l\\x00'"
      ]
     },
     "metadata": {},
     "output_type": "display_data"
    }
   ],
   "source": [
    "print(val.encode(\"latin1\"))\n",
    "print(val.encode(\"utf-16\"))\n",
    "val.encode(\"utf-16le\")"
   ]
  },
  {
   "cell_type": "markdown",
   "metadata": {},
   "source": [
    "It is most common to encounter bytes objects in the context of working with files, where implicitly decoding all data to Unicode strings may not be desired."
   ]
  }
 ],
 "metadata": {
  "kernelspec": {
   "display_name": "stat1010",
   "language": "python",
   "name": "python3"
  },
  "language_info": {
   "codemirror_mode": {
    "name": "ipython",
    "version": 3
   },
   "file_extension": ".py",
   "mimetype": "text/x-python",
   "name": "python",
   "nbconvert_exporter": "python",
   "pygments_lexer": "ipython3",
   "version": "3.11.4"
  }
 },
 "nbformat": 4,
 "nbformat_minor": 2
}
