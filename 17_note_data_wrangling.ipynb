{
 "cells": [
  {
   "cell_type": "markdown",
   "metadata": {},
   "source": [
    "## 8.1 Hierarchical Indexing\n"
   ]
  },
  {
   "cell_type": "markdown",
   "metadata": {},
   "source": [
    "### Construct data frames with multiindex\n",
    "1. Use nested lists passed to `index` or `columns` to the `pd.Series` or `pd.DataFrame` constructor. \n",
    "    ```\n",
    "    pd.DataFrame(np.arange(12).reshape((4, 3)),\n",
    "                     index=[[\"a\", \"a\", \"b\", \"b\"], [1, 2, 1, 2]],\n",
    "                     columns=[[\"Ohio\", \"Ohio\", \"Colorado\"],\n",
    "                              [\"Green\", \"Red\", \"Green\"]])\n",
    "    ```\n",
    "2. A MultiIndex can be created by itself and then reused; the columns in the preceding DataFrame with level names could also be created like this:\n",
    "    ```\n",
    "        pd.MultiIndex.from_arrays([[\"Ohio\", \"Ohio\", \"Colorado\"],\n",
    "                          [\"Green\", \"Red\", \"Green\"]],\n",
    "                          names=[\"state\", \"color\"])\n",
    "    ```\n",
    "\n",
    "3. atributes of `index` or `columns`: \n",
    "    - `.names` (supersedes `.name`)\n",
    "    - `.nlevels`\n",
    "\n"
   ]
  },
  {
   "cell_type": "markdown",
   "metadata": {},
   "source": [
    "### Reordering and Sorting Levels\n",
    "Methods: \n",
    "- `.swaplevel(\"level1\", \"level2\")` or `swaplevel(0,1)`\n",
    "- `.sort_index(level=0)`: sorty by rows, level=0: outermost level. level=1: inner level"
   ]
  },
  {
   "cell_type": "markdown",
   "metadata": {},
   "source": [
    "The `swaplevel` method takes two level numbers or names and returns a new object with the levels interchanged (but the data is otherwise unaltered):"
   ]
  },
  {
   "cell_type": "markdown",
   "metadata": {},
   "source": [
    "`sort_index` by default sorts the data lexicographically using all the index levels, but you can choose to use only a single level or a subset of levels to sort by passing the level argument. For example:"
   ]
  },
  {
   "cell_type": "markdown",
   "metadata": {},
   "source": [
    ":::{.callout-note}\n",
    "Data selection performance is much better on hierarchically indexed objects if the index is lexicographically sorted starting with the outermost level—that is, the result of calling `sort_index(level=0)` or `sort_index()`."
   ]
  },
  {
   "cell_type": "markdown",
   "metadata": {},
   "source": [
    "### Summary Statistics by Level\n",
    "\n",
    "`.groupby(level=\"key\", axis=\"columns\").sum()`: default axis is \"index\""
   ]
  },
  {
   "cell_type": "markdown",
   "metadata": {},
   "source": [
    "Many descriptive and summary statistics on DataFrame and Series have a level option in which you can specify the `level` you want to aggregate by on a particular axis. "
   ]
  },
  {
   "cell_type": "markdown",
   "metadata": {},
   "source": [
    "## Indexing with a DataFrame's columns"
   ]
  },
  {
   "cell_type": "markdown",
   "metadata": {},
   "source": [
    "- `.set_index(['col1','col2'], drop=True)`: use `col1` and `col2` to create multi-index. If drop=False, do not drop the columns. \n",
    "- `.reset_index()`"
   ]
  },
  {
   "cell_type": "markdown",
   "metadata": {},
   "source": [
    "DataFrame’s `set_index` function will create a new DataFrame using one or more of its columns as the index:"
   ]
  },
  {
   "cell_type": "markdown",
   "metadata": {},
   "source": [
    "`reset_index`, on the other hand, does the opposite of `set_index`; the hierarchical index levels are moved into the columns:"
   ]
  },
  {
   "cell_type": "markdown",
   "metadata": {},
   "source": [
    "## 8.2 Combining and Merging Datasets"
   ]
  },
  {
   "cell_type": "markdown",
   "metadata": {},
   "source": [
    "Data contained in pandas objects can be combined in a number of ways:\n",
    "\n",
    "`pandas.merge`\n",
    "Connect rows in DataFrames based on one or more keys. This will be familiar to users of SQL or other relational databases, as it implements database `join` operations.\n",
    "\n",
    "\n",
    "`pandas.concat`\n",
    "Concatenate or \"stack\" objects together along an axis.\n",
    "\n",
    "`combine_first`\n",
    "Splice together overlapping data to fill in missing values in one object with values from another."
   ]
  },
  {
   "cell_type": "markdown",
   "metadata": {},
   "source": [
    ":::{.callout-warning}\n",
    "When you're joining columns on columns, the indexes on the passed DataFrame objects are discarded. If you need to preserve the index values, you can use `reset_index` to append the index to the columns."
   ]
  },
  {
   "cell_type": "markdown",
   "metadata": {},
   "source": [
    "### Database-Style DataFrame Joins\n",
    "\n",
    "\n",
    "- `pd.merge(df1, df2, on=\"key\")`: inner join on common \"key\". If omitted, inner join on common key\n",
    "- `pd.merge(df1,df2, left_on='lefkey', right_on='right_key', how='inner')`   how= 'inner', 'left', 'right', 'outer'\n",
    "- `pd.merge(left, right, on=[\"key1\", \"key2\"], how=\"outer\")` # merge with multiple keys\n",
    "- `pd.merge(left, right, on=\"key1\", suffixes=(\"_left\", \"_right\"))`"
   ]
  },
  {
   "cell_type": "markdown",
   "metadata": {},
   "source": [
    "Table 8.1: Different join types with the how argument\n",
    "Option|\tBehavior\n",
    "|:----------|:--------------------------------------------------------|\n",
    "how=\"inner\"|\tUse only the key combinations observed in both tables\n",
    "how=\"left\"|\tUse all key combinations found in the left table\n",
    "how=\"right\"|\tUse all key combinations found in the right table\n",
    "how=\"outer\"\t|Use all key combinations observed in both tables together"
   ]
  },
  {
   "cell_type": "markdown",
   "metadata": {},
   "source": [
    "By default, pandas.merge does an \"inner\" join; the keys in the result are the intersection, or the common set found in both tables. Other possible options are \"left\", \"right\", and \"outer\". The outer join takes the union of the keys, combining the effect of applying both left and right joins:"
   ]
  },
  {
   "cell_type": "markdown",
   "metadata": {},
   "source": [
    "Table 8.2: pandas.merge function arguments\n",
    "Argument\t|Description\n",
    "|:---------|:-----------------------------------------------------------------------|\n",
    "left|\tDataFrame to be merged on the left side.\n",
    "right|\tDataFrame to be merged on the right side.\n",
    "how\t|Type of join to apply: one of \"inner\", \"outer\", \"left\", or \"right\"; defaults to \"inner\".\n",
    "on\t|Column names to join on. Must be found in both DataFrame objects. If not specified and no other join keys given, will use the intersection of the column names in left and right as the join keys.\n",
    "left_on\t|Columns in left DataFrame to use as join keys. Can be a single column name or a list of column names.\n",
    "right_on\t|Analogous to left_on for right DataFrame.\n",
    "left_index|\tUse row index in left as its join key (or keys, if a MultiIndex).\n",
    "right_index|\tAnalogous to left_index.\n",
    "sort|\tSort merged data lexicographically by join keys; False by default.\n",
    "suffixes|\tTuple of string values to append to column names in case of overlap; defaults to (\"_x\", \"_y\") (e.g., if \"data\" in both DataFrame objects, would appear as \"data_x\" and \"data_y\" in result).\n",
    "copy\t|If False, avoid copying data into resulting data structure in some exceptional cases; by default always copies.\n",
    "validate|\tVerifies if the merge is of the specified type, whether one-to-one, one-to-many, or many-to-many. See the docstring for full details on the options.\n",
    "indicator|\tAdds a special column _merge that indicates the source of each row; values will be \"left_only\", \"right_only\", or \"both\" based on the origin of the joined data in each row."
   ]
  },
  {
   "cell_type": "markdown",
   "metadata": {},
   "source": [
    "### Merging on Index"
   ]
  },
  {
   "cell_type": "markdown",
   "metadata": {},
   "source": [
    "In some cases, the merge key(s) in a DataFrame will be found in its `index` (row labels). In this case, you can pass `left_index=True` or `right_index=True` (or both) to indicate that the index should be used as the merge key:\n",
    "- `pd.merge(left1, right1, left_on=\"key\", right_index=True) `\n",
    "- `pd.merge(left2, right2, how=\"outer\", left_index=True, right_index=True)`\n",
    "\n",
    "Join method using index from both dataframes\n",
    "- `left2.join(right2, how=\"outer\") # join method using index from both dataframes`\n",
    "- `left1.join(right1, on=\"key\") #perform left-join on \"key\" of left1 with index on right1`\n",
    "\n",
    "for simple index-on-index merges, you can pass a list of DataFrames to join as an alternative to using the more general pandas.concat function described in the next section:\n",
    "- `left2.join([right2, another])` #left join using index\n",
    "- `left2.join([right2, another], how = 'outer') `"
   ]
  },
  {
   "cell_type": "markdown",
   "metadata": {},
   "source": [
    "### pd.concat"
   ]
  },
  {
   "cell_type": "markdown",
   "metadata": {},
   "source": [
    "- `np.concatenate([arr, arr], axis=1)` \n",
    "\n",
    "By default, `pandas.concat` works along axis=\"index\", producing another Series. If you pass axis=\"columns\", the result will instead be a DataFrame:\n",
    "- `pd.concat([s1, s2, s3])` #Note concat use index  to align data and concat by row( by index)\n",
    "- `pd.concat([s1, s4], axis=\"columns\", join=\"inner\")`\n",
    "\n",
    "A potential issue is that the concatenated pieces are not identifiable in the result. Suppose instead you wanted to create a hierarchical index on the concatenation axis. To do this, use the keys argument:\n",
    "- `pd.concat([s1, s1, s3], keys=[\"one\", \"two\", \"three\"])` # keys corresponding to each series\n",
    "- `pd.concat([df1, df2], axis=\"columns\", keys=[\"level1\", \"level2\"])` #left join on index\n",
    "- `pd.concat({\"level1\": df1, \"level2\": df2}, axis=\"columns\") #alternatively`\n",
    "- `pd.concat([df1, df2], axis=\"columns\", keys=[\"level1\", \"level2\"],\n",
    "          names=[\"upper\", \"lower\"])` #name the created axis levels with the names argument\n",
    "\n",
    "you can pass ignore_index=True, which discards the indexes from each DataFrame and concatenates the data in the columns only, assigning a new default index:\n",
    "- `pd.concat([df1, df2], ignore_index=True)` # ignore the original index"
   ]
  },
  {
   "cell_type": "markdown",
   "metadata": {},
   "source": [
    "Table 8.3: pandas.concat function arguments\n",
    "Argument|\tDescription\n",
    ":-----------------|:----------------------------------------------------------------------|\n",
    "objs|\tList or dictionary of pandas objects to be concatenated; this is the only required argument\n",
    "axis|\tAxis to concatenate along; defaults to concatenating along rows (axis=\"index\")\n",
    "join|\tEither \"inner\" or \"outer\" (\"outer\" by default); whether to intersect (inner) or union (outer) indexes along the other axes\n",
    "keys|\tValues to associate with objects being concatenated, forming a hierarchical index along the concatenation axis; can be a list or array of arbitrary values, an array of tuples, or a list of arrays (if multiple-level arrays passed in levels)\n",
    "levels|\tSpecific indexes to use as hierarchical index level or levels if keys passed\n",
    "names|\tNames for created hierarchical levels if keys and/or levels passed\n",
    "verify_integrity|\tCheck new axis in concatenated object for duplicates and raise an exception if so; by default (False) allows duplicates\n",
    "ignore_index|\tDo not preserve indexes along concatenation axis, instead produce a new range(total_length) index"
   ]
  },
  {
   "cell_type": "markdown",
   "metadata": {},
   "source": [
    "### Combining Data with Overlap"
   ]
  },
  {
   "cell_type": "markdown",
   "metadata": {},
   "source": [
    "Using numpy.where does not check whether the index labels are aligned or not (and does not even require the objects to be the same length), so if you want to line up values by index, use the Series combine_first method:\n",
    "\n",
    "If a value is present in `a` at a specific index or column and is NaN or missing, it will be filled with the corresponding value from `b` at that index or column. If the value in a is not missing, it remains unchanged."
   ]
  },
  {
   "cell_type": "markdown",
   "metadata": {},
   "source": [
    "`a.combine_first(b)` # note the index are sorted\n",
    "\n",
    "#With DataFrames, combine_first does the same thing column by column, \n",
    "\n",
    "`df1.combine_first(df2)` #The output of combine_first with DataFrame objects will have the union of all the column names."
   ]
  },
  {
   "cell_type": "markdown",
   "metadata": {},
   "source": [
    "## 8.3 Reshaping and Pivoting"
   ]
  },
  {
   "cell_type": "markdown",
   "metadata": {},
   "source": [
    "### Reshaping with Hierarchical Indexing"
   ]
  },
  {
   "cell_type": "markdown",
   "metadata": {},
   "source": [
    "`stack`: to make a long table\n",
    "\n",
    "This “rotates” or pivots from the columns in the data to the rows.\n",
    "\n",
    "`data.stack()` \n",
    "\n",
    "`unstack`: to make a wide table\n",
    "\n",
    "This pivots from the rows into the columns. By default, the innermost level is unstacked (same with stack). You can unstack a different level by passing a level number or name:\n",
    "\n",
    "- `result.unstack()`\n",
    "- `result.unstack(level=0)`\n",
    "- `result.unstack(level=\"state\")`\n",
    "- `data2.unstack().stack()` #stacking filters out missing data by default, so the operation is more easily invertible.\n",
    "- `data2.unstack().stack(dropna=False)` # Keep the NA values\n",
    "- `df.unstack(level=\"state\").stack(level=\"side\")`"
   ]
  },
  {
   "cell_type": "markdown",
   "metadata": {},
   "source": [
    "As with unstack, when calling stack we can indicate the name of the axis to stack:"
   ]
  },
  {
   "cell_type": "markdown",
   "metadata": {},
   "source": [
    "### Pivoting “Long” to “Wide” Format by .pivot()"
   ]
  },
  {
   "cell_type": "markdown",
   "metadata": {},
   "source": [
    "`pop` method on the DataFrame, which returns a column while deleting it from the DataFrame at the same time.\n",
    "\n",
    "`pandas.PeriodIndex` (which represents time intervals rather than points in time), discussed in more detail in Ch 11: Time Series,"
   ]
  },
  {
   "cell_type": "markdown",
   "metadata": {},
   "source": [
    "```\n",
    "periods = pd.PeriodIndex(year=data.pop(\"year\"),\n",
    "                         quarter=data.pop(\"quarter\"),\n",
    "                         name=\"date\") \n",
    "```"
   ]
  },
  {
   "cell_type": "markdown",
   "metadata": {},
   "source": [
    "One way to obtain long data is to use combination of `.stack()` and `.reset_index()` methods\n",
    "```\n",
    "long_data = (data.stack()\n",
    "             .reset_index()\n",
    "             .rename(columns={0: \"value\"}))\n",
    "```"
   ]
  },
  {
   "cell_type": "markdown",
   "metadata": {},
   "source": [
    "Now use `.pivot()` to make a wide data table\n",
    "```\n",
    "long_data.pivot(index=\"date\", columns=\"item\",\n",
    "                          values=\"value\")\n",
    "```"
   ]
  },
  {
   "cell_type": "markdown",
   "metadata": {},
   "source": [
    "By omitting the last argument, you obtain a DataFrame with hierarchical columns when there are more than one columns of values. \n",
    "```\n",
    "long_data.pivot(index=\"date\", columns=\"item\")\n",
    "```"
   ]
  },
  {
   "cell_type": "markdown",
   "metadata": {},
   "source": [
    "Note that pivot is equivalent to creating a hierarchical index using set_index followed by a call to unstack:"
   ]
  },
  {
   "cell_type": "markdown",
   "metadata": {},
   "source": [
    "```\n",
    "long_data.set_index([\"date\", \"item\"]).unstack(level=\"item\")\n",
    "```"
   ]
  },
  {
   "cell_type": "markdown",
   "metadata": {},
   "source": [
    "### Pivoting “Wide” to “Long” Format by `melt()`"
   ]
  },
  {
   "cell_type": "markdown",
   "metadata": {},
   "source": [
    " `pandas.melt` merges multiple columns into one, producing a DataFrame that is longer than the input. The \"key\" column may be a group indicator, and the other columns are data values. When using `pandas.melt`, we must indicate which columns (if any) are group indicators. Let's use \"key\" as the only group indicator here:"
   ]
  },
  {
   "cell_type": "markdown",
   "metadata": {},
   "source": [
    "```\n",
    "melted = pd.melt(df, id_vars=\"key\") #id_vars can be omitted. Then there is no group identifier. \n",
    "```"
   ]
  },
  {
   "cell_type": "markdown",
   "metadata": {},
   "source": [
    "Using pivot, we can reshape back to the original layout:"
   ]
  },
  {
   "cell_type": "markdown",
   "metadata": {},
   "source": [
    "```\n",
    "reshaped = melted.pivot(index=\"key\", columns=\"variable\",\n",
    "                        values=\"value\")\n",
    "```"
   ]
  }
 ],
 "metadata": {
  "kernelspec": {
   "display_name": "Python 3",
   "language": "python",
   "name": "python3"
  },
  "language_info": {
   "codemirror_mode": {
    "name": "ipython",
    "version": 3
   },
   "file_extension": ".py",
   "mimetype": "text/x-python",
   "name": "python",
   "nbconvert_exporter": "python",
   "pygments_lexer": "ipython3",
   "version": "3.11.5"
  }
 },
 "nbformat": 4,
 "nbformat_minor": 4
}
